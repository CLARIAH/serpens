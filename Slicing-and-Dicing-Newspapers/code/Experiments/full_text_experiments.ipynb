{
 "cells": [
  {
   "cell_type": "code",
   "execution_count": null,
   "metadata": {},
   "outputs": [],
   "source": [
    "# Experiments on entire text instead of just snippets\n",
    "\n",
    "import pandas as pd\n",
    "import glob\n",
    "import numpy as np \n",
    "from sklearn.model_selection import train_test_split\n",
    "from sklearn.feature_extraction.text import CountVectorizer\n",
    "from sklearn.feature_extraction.text import TfidfVectorizer\n",
    "from sklearn.feature_extraction.text import TfidfTransformer\n",
    "from sklearn.pipeline import Pipeline\n",
    "from sklearn.svm import LinearSVC\n",
    "from sklearn.linear_model import SGDClassifier\n",
    "from sklearn.naive_bayes import MultinomialNB\n",
    "from sklearn import metrics\n",
    "import matplotlib.pyplot as plt\n",
    "%matplotlib inline\n",
    "from sklearn.model_selection import learning_curve\n",
    "from sklearn.model_selection import ShuffleSplit\n",
    "from sklearn.neighbors import KNeighborsClassifier\n",
    "from sklearn.tree import DecisionTreeClassifier\n",
    "\n"
   ]
  },
  {
   "cell_type": "code",
   "execution_count": null,
   "metadata": {},
   "outputs": [],
   "source": [
    "# Get data \n",
    "species = glob.glob('*tsv')\n",
    "np_array_list = []\n",
    "for file_ in species:\n",
    "    df = pd.read_csv(file_,index_col=None, header=0, sep=\"\\t\")\n",
    "    np_array_list.append(df.as_matrix())\n",
    "\n",
    "comb_np_array = np.vstack(np_array_list)\n",
    "big_frame = pd.DataFrame(comb_np_array)\n"
   ]
  },
  {
   "cell_type": "code",
   "execution_count": null,
   "metadata": {},
   "outputs": [],
   "source": [
    "pd.set_option('display.max_colwidth', 1)\n",
    "temp = big_frame[9].str.extract(r'<body>(.*)</body>', expand=False)\n",
    "\n",
    "temp  = temp.str.replace('<b style=\"color:red; font-size:14pt\"><u><i>(.*)</i></u></b>', '=ANIMAL=')\n",
    "temp  = temp.str.replace('<title>', '')\n",
    "temp  = temp.str.replace('</title>', '')\n",
    "temp  = temp.str.replace('<p>', '')\n",
    "temp  = temp.str.replace('</p>', '')\n",
    "temp  = temp.str.replace('<title xmlns:xsi=\"http://www.w3.org/2001/XMLSchema-instance\">' ,'')\n",
    "temp  = temp.str.replace('<p xmlns:xsi=\"http://www.w3.org/2001/XMLSchema-instance\">' ,'')\n",
    "\n",
    "big_frame['text_clean'] = temp \n",
    "\n",
    "\n",
    "big_frame.head()"
   ]
  },
  {
   "cell_type": "code",
   "execution_count": null,
   "metadata": {},
   "outputs": [],
   "source": [
    "#Try the NaiveBayes classifier on the complete dataset \n",
    "labels = big_frame[0]\n",
    "text = big_frame['text_clean']\n",
    "print(\"length total: \", len(labels))\n",
    "labels_train, labels_test, text_train, text_test = train_test_split(labels, text, test_size=0.3, random_state=1)\n",
    "print(\"length train labels: \", len(labels_train))\n",
    "print(\"length test labels: \", len(labels_test))\n",
    "\n",
    "\n",
    "text_clf = Pipeline([('vect', CountVectorizer()), ('tfidf', TfidfTransformer()), ('clf', MultinomialNB()),])\n",
    "text_clf.fit(text_train, labels_train)\n",
    "docs_test = text_test\n",
    "predicted = text_clf.predict(docs_test)\n",
    "print(metrics.classification_report(labels_test, predicted))\n"
   ]
  },
  {
   "cell_type": "code",
   "execution_count": null,
   "metadata": {},
   "outputs": [],
   "source": [
    "#text_clf = Pipeline([('tfidf', TfidfVectorizer(min_df=5, max_df=0.7, sublinear_tf=True, ngram_range=(1,2), analyzer='word', max_features=10000)), ('clf-svm', LinearSVC(class_weight='balanced', C=1.0, verbose=True))])\n",
    "#text_clf = Pipeline([('vect', CountVectorizer()), ('tfidf', TfidfTransformer()), ('clf', MultinomialNB()),])\n",
    "text_clf = Pipeline([('tfidf', TfidfVectorizer(min_df=5, max_df=0.7, sublinear_tf=True, ngram_range=(1,2), analyzer='word', max_features=10000)), ('clf', SGDClassifier(loss='hinge', penalty='l2', alpha=1e-3, random_state=42, max_iter=5, tol=None)),])\n",
    "#text_clf = Pipeline([('tfidf', TfidfVectorizer(min_df=5, max_df=0.7, sublinear_tf=True, ngram_range=(1,2), analyzer='word', max_features=10000)), ('clf', KNeighborsClassifier(n_neighbors=3, weights='uniform', algorithm='brute', leaf_size=30, p=2, metric='euclidean', metric_params=None, n_jobs=1))])\n",
    "#text_clf = Pipeline([('tfidf', TfidfVectorizer(min_df=5, max_df=0.7, sublinear_tf=True, ngram_range=(1,2), analyzer='word', max_features=10000)), ('clf', DecisionTreeClassifier())])\n",
    "\n",
    "\n",
    "from sklearn import metrics\n",
    "from sklearn.model_selection import StratifiedKFold\n",
    "import numpy as np\n",
    "\n",
    "def customCrossValidation(X, y):\n",
    "    ''' Perform a cross validation and print out the metrics '''\n",
    "    skf = StratifiedKFold(n_splits=10)\n",
    "    cm = None\n",
    "    y_predicted_overall = None\n",
    "    y_test_overall = None\n",
    "    for train_index, test_index in skf.split(X, y):\n",
    "        X_train, X_test = X[train_index], X[test_index]\n",
    "        y_train, y_test = y[train_index], y[test_index]\n",
    "        text_clf.fit(X_train, y_train)\n",
    "        y_predicted = text_clf.predict(X_test)\n",
    "        # collect the y_predicted per fold\n",
    "        if y_predicted_overall is None:\n",
    "            y_predicted_overall = y_predicted\n",
    "            y_test_overall = y_test\n",
    "        else: \n",
    "            y_predicted_overall = np.concatenate([y_predicted_overall, y_predicted])\n",
    "            y_test_overall = np.concatenate([y_test_overall, y_test])\n",
    "        cv_cm = metrics.confusion_matrix(y_test, y_predicted)\n",
    "        # sum the cv per fold\n",
    "        if cm is None:\n",
    "            cm = cv_cm\n",
    "        else:\n",
    "            cm += cv_cm\n",
    "    print (metrics.classification_report(y_test_overall, y_predicted_overall, digits=3))\n",
    "    print (cm)\n",
    "    \n",
    "customCrossValidation(big_frame['text_clean'], big_frame[0])  \n",
    "\n"
   ]
  },
  {
   "cell_type": "code",
   "execution_count": null,
   "metadata": {},
   "outputs": [],
   "source": [
    "text_clf = Pipeline([('tfidf', TfidfVectorizer(min_df=5, max_df=0.7, sublinear_tf=True, ngram_range=(1,2), analyzer='word', max_features=10000)), ('clf', KNeighborsClassifier(n_neighbors=3, weights='uniform', algorithm='brute', leaf_size=30, p=2, metric='euclidean', metric_params=None, n_jobs=1))])\n",
    "customCrossValidation(big_frame['text_clean'], big_frame[0])  \n",
    "\n"
   ]
  },
  {
   "cell_type": "code",
   "execution_count": null,
   "metadata": {},
   "outputs": [],
   "source": [
    "text_clf = Pipeline([('tfidf', TfidfVectorizer(min_df=5, max_df=0.7, sublinear_tf=True, ngram_range=(1,2), analyzer='word', max_features=10000)), ('clf', DecisionTreeClassifier())])\n",
    "customCrossValidation(big_frame['text_clean'], big_frame[0])  \n"
   ]
  },
  {
   "cell_type": "code",
   "execution_count": null,
   "metadata": {},
   "outputs": [],
   "source": []
  },
  {
   "cell_type": "code",
   "execution_count": null,
   "metadata": {},
   "outputs": [],
   "source": []
  }
 ],
 "metadata": {
  "kernelspec": {
   "display_name": "Python 3",
   "language": "python",
   "name": "python3"
  },
  "language_info": {
   "codemirror_mode": {
    "name": "ipython",
    "version": 3
   },
   "file_extension": ".py",
   "mimetype": "text/x-python",
   "name": "python",
   "nbconvert_exporter": "python",
   "pygments_lexer": "ipython3",
   "version": "3.6.3"
  }
 },
 "nbformat": 4,
 "nbformat_minor": 2
}
