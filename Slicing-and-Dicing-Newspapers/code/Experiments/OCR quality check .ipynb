{
 "cells": [
  {
   "cell_type": "code",
   "execution_count": null,
   "metadata": {},
   "outputs": [],
   "source": [
    "# This notebook computes and visualises some statistics on the OCR quality of the data \n",
    "\n",
    "# marieke.van.erp@dh.huc.knaw.nl\n",
    "# 2 April 2018 \n",
    "\n",
    "\n",
    "import pandas as pd\n",
    "import glob\n",
    "import matplotlib.pyplot as plt\n",
    "%matplotlib inline\n",
    "import seaborn as sns \n",
    "from dateutil.parser import parse\n",
    "from dateutil.tz import gettz"
   ]
  },
  {
   "cell_type": "code",
   "execution_count": null,
   "metadata": {},
   "outputs": [],
   "source": [
    "species = glob.glob('*tsv')"
   ]
  },
  {
   "cell_type": "code",
   "execution_count": null,
   "metadata": {},
   "outputs": [],
   "source": [
    "# All species in one go\n",
    "\n",
    "import numpy as np \n",
    "\n",
    "np_array_list = []\n",
    "for file_ in species:\n",
    "    df = pd.read_csv(file_,index_col=None, header=0, sep=\"\\t\")\n",
    "    np_array_list.append(df.as_matrix())\n",
    "\n",
    "comb_np_array = np.vstack(np_array_list)\n",
    "big_frame = pd.DataFrame(comb_np_array)\n",
    "\n",
    "big_frame.head()\n"
   ]
  },
  {
   "cell_type": "code",
   "execution_count": null,
   "metadata": {},
   "outputs": [],
   "source": [
    "# Plot for comparing OCR over different newspaper titles \n",
    "# Figure 2-left in the paper \n",
    "sns.stripplot(x=2, y=6, data=big_frame, jitter=True)"
   ]
  },
  {
   "cell_type": "code",
   "execution_count": null,
   "metadata": {},
   "outputs": [],
   "source": [
    "# Create 10 13-year bins \n",
    "big_frame['binned'] = pd.cut(big_frame[2], 10, right=True)\n",
    "\n",
    "big_frame.groupby('binned').count()\n",
    "\n"
   ]
  },
  {
   "cell_type": "code",
   "execution_count": null,
   "metadata": {},
   "outputs": [],
   "source": [
    "# Muck around with some colours and labels \n",
    "plt.figure(figsize=(10,5))\n",
    "\n",
    "text = [\"1799-1813\", \"1813-1827\", '1827-1841', \"1841-1855\", \"1855-1869\",\"1869-1883\", \"1883-1897\", \"1897-1911\", \"1911-1925\", \"1925-1939\"]\n",
    "\n",
    "# plot the figure \n",
    "# Figure 2-right in the paper \n",
    "ax = sns.stripplot(x=big_frame['binned'], y=6, data=big_frame, jitter=True, palette=sns.light_palette(\"navy\"))\n",
    "ax.set_xticklabels(text, rotation='45', fontsize=10)\n",
    "ax.set_xlabel('Date')\n",
    "ax.set_ylabel('OCR Quality Score')\n",
    "plt.show()"
   ]
  },
  {
   "cell_type": "code",
   "execution_count": null,
   "metadata": {},
   "outputs": [],
   "source": [
    "# Create 10 13-year bins \n",
    "big_frame['binned'] = pd.cut(big_frame[2], 14, right=True)\n",
    "\n",
    "big_frame.groupby('binned').count()\n",
    "\n",
    "# Muck around with some colours and labels \n",
    "plt.figure(figsize=(10,5))\n",
    "\n",
    "text = [\"1799-1809\", \"1809-1819\", '1819-1829', \"1829-1839\", \"1839-1849\",\"1849-1859\", \"1859-1869\", \"1869-1879\", \"1879-1889\", \"1889-1899\", \"1899-1909\", \"1909-1919\", \"1919=1929\", \"1929-1939\"]\n",
    "\n",
    "# plot the figure \n",
    "# Figure 2-right in the paper \n",
    "ax = sns.stripplot(x=big_frame['binned'], y=6, data=big_frame, jitter=True, palette=sns.light_palette(\"navy\"))\n",
    "ax.set_xticklabels(text, rotation='45', fontsize=10)\n",
    "ax.set_xlabel('Date')\n",
    "ax.set_ylabel('OCR Quality Score')\n",
    "plt.show()"
   ]
  },
  {
   "cell_type": "code",
   "execution_count": null,
   "metadata": {},
   "outputs": [],
   "source": [
    "big_frame.groupby('binned').count()"
   ]
  },
  {
   "cell_type": "code",
   "execution_count": null,
   "metadata": {},
   "outputs": [],
   "source": []
  },
  {
   "cell_type": "code",
   "execution_count": null,
   "metadata": {},
   "outputs": [],
   "source": []
  },
  {
   "cell_type": "code",
   "execution_count": null,
   "metadata": {},
   "outputs": [],
   "source": []
  },
  {
   "cell_type": "code",
   "execution_count": null,
   "metadata": {},
   "outputs": [],
   "source": []
  },
  {
   "cell_type": "code",
   "execution_count": null,
   "metadata": {},
   "outputs": [],
   "source": []
  },
  {
   "cell_type": "code",
   "execution_count": null,
   "metadata": {},
   "outputs": [],
   "source": [
    "\n"
   ]
  },
  {
   "cell_type": "code",
   "execution_count": null,
   "metadata": {},
   "outputs": [],
   "source": []
  },
  {
   "cell_type": "code",
   "execution_count": null,
   "metadata": {},
   "outputs": [],
   "source": []
  }
 ],
 "metadata": {
  "kernelspec": {
   "display_name": "Python 3",
   "language": "python",
   "name": "python3"
  },
  "language_info": {
   "codemirror_mode": {
    "name": "ipython",
    "version": 3
   },
   "file_extension": ".py",
   "mimetype": "text/x-python",
   "name": "python",
   "nbconvert_exporter": "python",
   "pygments_lexer": "ipython3",
   "version": "3.6.3"
  }
 },
 "nbformat": 4,
 "nbformat_minor": 2
}
